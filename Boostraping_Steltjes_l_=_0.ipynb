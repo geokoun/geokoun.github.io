{
  "nbformat": 4,
  "nbformat_minor": 0,
  "metadata": {
    "colab": {
      "provenance": [],
      "collapsed_sections": [],
      "authorship_tag": "ABX9TyNdYejaCKmEj92Fm4ADMuws",
      "include_colab_link": true
    },
    "kernelspec": {
      "name": "python3",
      "display_name": "Python 3"
    },
    "language_info": {
      "name": "python"
    }
  },
  "cells": [
    {
      "cell_type": "markdown",
      "metadata": {
        "id": "view-in-github",
        "colab_type": "text"
      },
      "source": [
        "<a href=\"https://colab.research.google.com/github/geokoun/geokoun.github.io/blob/main/Boostraping_Steltjes_l_%3D_0.ipynb\" target=\"_parent\"><img src=\"https://colab.research.google.com/assets/colab-badge.svg\" alt=\"Open In Colab\"/></a>"
      ]
    },
    {
      "cell_type": "code",
      "execution_count": null,
      "metadata": {
        "colab": {
          "base_uri": "https://localhost:8080/",
          "height": 279
        },
        "id": "3EfNDTIKdEWh",
        "outputId": "5f07c031-ca8e-4be0-b8d1-28d464fcc5f6"
      },
      "outputs": [
        {
          "output_type": "display_data",
          "data": {
            "text/plain": [
              "<Figure size 432x288 with 1 Axes>"
            ],
            "image/png": "[encoded data removed]"
          },
          "metadata": {
            "needs_background": "light"
          }
        }
      ],
      "source": [
        "import numpy as np\n",
        "import matplotlib.pyplot as plt\n",
        "import numpy.linalg as linalg\n",
        "import math\n",
        "\n",
        "\n",
        "rng = np.random.default_rng(12345)\n",
        "\n",
        "\n",
        "Ec=[]\n",
        "Kc=[]\n",
        "K = 10\n",
        "\n",
        "\n",
        "for k in range(0,10000):\n",
        "\n",
        "  E = rng.random()*7\n",
        "\n",
        "  X = np.zeros(shape=(2*K+1))\n",
        "  \n",
        "#Moment recursion  \n",
        "  for i in range(0,2*K+1):\n",
        "    if (i==0):\n",
        "      X[i]= 1\n",
        "    if (i==1):\n",
        "      X[i]= 2*E/3  # -3/(4*E) for Hydrogen\n",
        "    if (i==2):\n",
        "      X[i]=4*E*X[1]/5   #(-4*(2*i+1)X[i-1] -(i-1)*i*(i+1)*X[i-2])/(8*(i+1)*E) for Hydrogen\n",
        "    if (i > 2):\n",
        "      X[i]= (2*i*E*X[i-1]+(i)*(i-1)*(i-2)*X[i-3]/2)/3\n",
        "\n",
        "#Hamburger and Steltjes Matrices\n",
        "  M=np.zeros(shape=(K,K))\n",
        "  MS=np.zeros(shape=(K-1,K-1))\n",
        "\n",
        "  for j in range(0,K):\n",
        "    for l in range(0,K):\n",
        "      M[j][l]=X[j+l]\n",
        "  \n",
        "  for m in range(0,K-1):\n",
        "    for n in range(0,K-1):\n",
        "      MS[m][n]=X[m+n+1]\n",
        "\n",
        "\n",
        "#Positivity check\n",
        "  p= min(linalg.eigvals(M))\n",
        "  ps= min(linalg.eigvals(MS))\n",
        "\n",
        "  if(ps >= 0 and p >= 0):\n",
        "    Ec.append(E)\n",
        "    Kc.append(K)\n",
        "\n",
        "   \n",
        "plt.scatter(Ec,Kc,label=\"K= 9 bootstraping for l=0\")\n",
        "plt.xlabel(\"E\")\n",
        "plt.ylabel(\"K\")\n",
        "plt.show()"
      ]
    }
  ]
}